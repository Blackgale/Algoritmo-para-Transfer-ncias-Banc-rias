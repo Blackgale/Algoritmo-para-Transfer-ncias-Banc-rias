{
  "nbformat": 4,
  "nbformat_minor": 0,
  "metadata": {
    "colab": {
      "provenance": [],
      "authorship_tag": "ABX9TyPiY8MAd/Pg0dD0pT6jeaRx",
      "include_colab_link": true
    },
    "kernelspec": {
      "name": "python3",
      "display_name": "Python 3"
    },
    "language_info": {
      "name": "python"
    }
  },
  "cells": [
    {
      "cell_type": "markdown",
      "metadata": {
        "id": "view-in-github",
        "colab_type": "text"
      },
      "source": [
        "<a href=\"https://colab.research.google.com/github/Blackgale/Algoritmo-para-Transfer-ncias-Banc-rias/blob/main/Huffman_Refatoradoipynb.ipynb\" target=\"_parent\"><img src=\"https://colab.research.google.com/assets/colab-badge.svg\" alt=\"Open In Colab\"/></a>"
      ]
    },
    {
      "cell_type": "code",
      "execution_count": null,
      "metadata": {
        "id": "sxOJ8cj_WRxI"
      },
      "outputs": [],
      "source": [
        "class Node:\n",
        "\n",
        "  def __init__(self, conteudo, frequencia, esquerda, direita, binario = ''):\n",
        "        self.conteudo = conteudo\n",
        "        self.frequencia = frequencia\n",
        "        self.esquerda = esquerda\n",
        "        self.direita = direita\n",
        "        self.binario = binario\n",
        "  def ehFolha(self):\n",
        "        return self.esquerda == None and self.direita == None\n",
        "  def printRepresentacaoBinaria(self):\n",
        "        return repr((self.conteudo, self.binario))\n",
        "  def __repr__(self):\n",
        "        return repr((self.conteudo , self.frequencia,(self.esquerda, self.direita)))\n"
      ]
    },
    {
      "cell_type": "markdown",
      "source": [],
      "metadata": {
        "id": "GvWIlJ8nW-EG"
      }
    },
    {
      "cell_type": "code",
      "source": [
        "class HuffmanTree:\n",
        "  def preOrdem(self, node):\n",
        "        print(Node)\n",
        "\n",
        "  def codificaBinario(self, node):\n",
        "\n",
        "        if node == None:\n",
        "            return\n",
        "\n",
        "        if node.esquerda != None:\n",
        "            node.esquerda.binario = str(node.binario) + '0'\n",
        "            self.codificaBinario(node.esquerda)\n",
        "\n",
        "        if node.direita != None:\n",
        "            node.direita.binario = str(node.binario) + '1'\n",
        "            self.codificaBinario(node.direita)\n",
        "\n",
        "        return\n",
        "  def compacta(self, node, texto):\n",
        "        codigo_binario = ''\n",
        "\n",
        "        for letra in texto:\n",
        "            codigo_binario = codigo_binario + str(self.getCodigoFolha(node, letra))\n",
        "\n",
        "        return codigo_binario\n",
        "  def getCodigoFolha(self, node, letra):\n",
        "\n",
        "        codigo_binario = ''\n",
        "\n",
        "        # Achou a letra e retorna o codigo binario dela\n",
        "        if node.conteudo == letra:\n",
        "            return node.binario\n",
        "\n",
        "        # Verifica o filho esquerdo é a folha que procuramos\n",
        "        else:\n",
        "            if (node.esquerda):\n",
        "                codigo_binario = self.getCodigoFolha(node.esquerda, letra)\n",
        "\n",
        "            # Se nao achou, verifica no filho direito\n",
        "            if codigo_binario == '':\n",
        "                if (node.direita):\n",
        "                    codigo_binario = self.getCodigoFolha(node.direita, letra)\n",
        "\n",
        "        return codigo_binario\n",
        "  def descompacta(self, raiz, texto_compactado):\n",
        "        no_arvore = raiz\n",
        "        texto_descompactado =''\n",
        "\n",
        "        for binario in texto_compactado:\n",
        "\n",
        "            # Verifica se vai para a esquerda ou para a direita\n",
        "            if binario == '0':\n",
        "                no_arvore = no_arvore.esquerda\n",
        "            else:\n",
        "                no_arvore = no_arvore.direita\n",
        "\n",
        "            # Se for uma folha, pega o conteudo dela e volta para a raiz\n",
        "            if(no_arvore.ehFolha()):\n",
        "                texto_descompactado = texto_descompactado + str(no_arvore.conteudo)\n",
        "                no_arvore = raiz\n",
        "\n",
        "        return texto_descompactado\n",
        "\n"
      ],
      "metadata": {
        "id": "gyBPUR0JXGxO"
      },
      "execution_count": null,
      "outputs": []
    },
    {
      "cell_type": "code",
      "source": [
        "def imprimeFolha(self, node):\n",
        "        if (node == None):\n",
        "            return\n",
        "        if (node.esquerda):\n",
        "            self.imprimeFolha(node.esquerda)\n",
        "        if(node.ehFolha()):\n",
        "            print(node.printRepresentacaoBinaria())\n",
        "        if (node.direita):\n",
        "            self.imprimeFolha(node.direita)"
      ],
      "metadata": {
        "id": "zNqvg9fRYBaB"
      },
      "execution_count": null,
      "outputs": []
    },
    {
      "cell_type": "code",
      "source": [
        "def openFile(address):\n",
        "    try:\n",
        "        file = open(address, 'r')\n",
        "        texto = file.read()\n",
        "    except:\n",
        "        print(\"Erro ao abrir o arquivo\")\n",
        "    finally:\n",
        "        file.close()\n",
        "    return texto"
      ],
      "metadata": {
        "id": "a2lcTijQYI_o"
      },
      "execution_count": null,
      "outputs": []
    },
    {
      "cell_type": "code",
      "source": [
        "def salvarArquivo(address, texto):\n",
        "    try:\n",
        "        file = open(address,'w')\n",
        "        file.write(texto)\n",
        "\n",
        "    except Exception as e:\n",
        "        print(\"Erro ao salvar o arquivo\")\n",
        "        print(str(e))\n",
        "    finally:\n",
        "        file.close()\n",
        "\n",
        "    return"
      ],
      "metadata": {
        "id": "qGhDE2xiY16I"
      },
      "execution_count": null,
      "outputs": []
    },
    {
      "cell_type": "code",
      "source": [
        "def huffman(C,tamanho_lista_nodes):\n",
        "    Q = C\n",
        "    i = 0\n",
        "    #print(\"Q = \" + str(Q))\n",
        "    for i in range(1, tamanho_lista_nodes, 1):\n",
        "\n",
        "        r = Node('+', None, Q[0], Q[1])\n",
        "        r.frequencia = Q[0].frequencia + Q[1].frequencia\n",
        "\n",
        "        # Removendo o A1 e A2 de Q\n",
        "        Q.remove(Q[1])\n",
        "        Q.remove(Q[0])\n",
        "\n",
        "        # Inserindo a nova arvore no conjunto e ordenando por frequencia\n",
        "        Q.append(r)\n",
        "        Q.sort(key = lambda x: x.frequencia)\n",
        "        #print(\"Q = \" + str(Q))\n",
        "\n",
        "    return Q"
      ],
      "metadata": {
        "id": "UAJQoXDdY7PQ"
      },
      "execution_count": null,
      "outputs": []
    },
    {
      "cell_type": "code",
      "source": [
        "from collections import Counter\n"
      ],
      "metadata": {
        "id": "WeyTb-O2Y_1Y"
      },
      "execution_count": null,
      "outputs": []
    },
    {
      "cell_type": "code",
      "source": [
        "address = ('/content/texto_para_compactar.txt')"
      ],
      "metadata": {
        "id": "LvNv4uVwZEV_"
      },
      "execution_count": null,
      "outputs": []
    },
    {
      "cell_type": "code",
      "source": [
        "texto = openFile(address)"
      ],
      "metadata": {
        "id": "xmdwgeorajI4"
      },
      "execution_count": null,
      "outputs": []
    },
    {
      "cell_type": "code",
      "source": [
        "counter = Counter(texto)\n",
        "print(\"\\r\\nFrequência de caracteres do texto: \" + str(counter))"
      ],
      "metadata": {
        "id": "sL4qgSIPanLZ",
        "colab": {
          "base_uri": "https://localhost:8080/"
        },
        "outputId": "1a7bcc58-8213-465c-9cc5-794d166d84a3"
      },
      "execution_count": null,
      "outputs": [
        {
          "output_type": "stream",
          "name": "stdout",
          "text": [
            "\r\n",
            "Frequência de caracteres do texto: Counter({'e': 3, 'T': 2, 't': 2, 'x': 1, 'o': 1, ' ': 1, 's': 1})\n"
          ]
        }
      ]
    },
    {
      "cell_type": "code",
      "source": [
        "lista_nodes =[]\n",
        "tamanho_lista_nodes = 0\n",
        "for item, count in reversed(counter.most_common()):\n",
        "    novo_node = Node(item, count, None, None)\n",
        "    lista_nodes.append(novo_node)\n",
        "    tamanho_lista_nodes = tamanho_lista_nodes + 1"
      ],
      "metadata": {
        "id": "tZQoH5iFarHg"
      },
      "execution_count": null,
      "outputs": []
    },
    {
      "cell_type": "code",
      "source": [
        "raiz = huffman(lista_nodes,tamanho_lista_nodes)\n",
        "arvore_huffman = HuffmanTree()\n",
        "print(\"\\r\\nÁrvore de Huffman obtida pelo algortimo em Pré Ordem: \")\n",
        "arvore_huffman.preOrdem(raiz[0])"
      ],
      "metadata": {
        "id": "NVIoAC1Za0og",
        "colab": {
          "base_uri": "https://localhost:8080/"
        },
        "outputId": "e9b149a7-6fa8-4479-f664-1d611a655752"
      },
      "execution_count": null,
      "outputs": [
        {
          "output_type": "stream",
          "name": "stdout",
          "text": [
            "\r\n",
            "Árvore de Huffman obtida pelo algortimo em Pré Ordem: \n",
            "<class '__main__.Node'>\n"
          ]
        }
      ]
    },
    {
      "cell_type": "code",
      "source": [
        "arvore_huffman.codificaBinario(raiz[0])"
      ],
      "metadata": {
        "id": "6d5SRlFXbdNx"
      },
      "execution_count": null,
      "outputs": []
    },
    {
      "cell_type": "code",
      "source": [
        "texto_compactado = arvore_huffman.compacta(raiz[0], texto)\n",
        "print(\"\\r\\nSequência de pseudo-bits do texto compactado: \" + texto_compactado)"
      ],
      "metadata": {
        "id": "sXmeKCrebkfg",
        "colab": {
          "base_uri": "https://localhost:8080/"
        },
        "outputId": "a5e76d82-f40c-4957-e398-e7a110ff9c62"
      },
      "execution_count": null,
      "outputs": [
        {
          "output_type": "stream",
          "name": "stdout",
          "text": [
            "\r\n",
            "Sequência de pseudo-bits do texto compactado: 111100111100100011111000011010\n"
          ]
        }
      ]
    },
    {
      "cell_type": "code",
      "source": [
        "salvarArquivo(\"texto_compactado.txt\", texto_compactado)\n",
        "print(\"\\r\\nArquivo 'texto_compactado.txt' salvo\")"
      ],
      "metadata": {
        "id": "p8EiAeuCbn-B",
        "colab": {
          "base_uri": "https://localhost:8080/"
        },
        "outputId": "5eb3b0ed-9efb-4891-d4fd-06800b29a683"
      },
      "execution_count": null,
      "outputs": [
        {
          "output_type": "stream",
          "name": "stdout",
          "text": [
            "\r\n",
            "Arquivo 'texto_compactado.txt' salvo\n"
          ]
        }
      ]
    },
    {
      "cell_type": "code",
      "source": [
        "texto_compactado = openFile(\"texto_compactado.txt\")\n",
        "print(\"\\r\\nCódigo compactado: \" + texto_compactado)\n",
        "\n",
        "texto_descompactado = arvore_huffman.descompacta(raiz[0], texto_compactado)\n",
        "print(\"\\r\\nTexto descompactado: \" + texto_descompactado)\n",
        "\n",
        "salvarArquivo(\"texto_descompactado.txt\", texto_descompactado)\n",
        "print(\"\\r\\nArquivo 'texto_descompactado.txt' salvo\")\n"
      ],
      "metadata": {
        "id": "DjdMFeImbriA",
        "colab": {
          "base_uri": "https://localhost:8080/"
        },
        "outputId": "db9f1409-65b5-4d6b-ee9b-9aab73474fab"
      },
      "execution_count": null,
      "outputs": [
        {
          "output_type": "stream",
          "name": "stdout",
          "text": [
            "\r\n",
            "Código compactado: 111100111100100011111000011010\n",
            "\r\n",
            "Texto descompactado: Texto Teste\n",
            "\r\n",
            "Arquivo 'texto_descompactado.txt' salvo em \n"
          ]
        }
      ]
    }
  ]
}